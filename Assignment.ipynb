{
 "cells": [
  {
   "cell_type": "code",
   "execution_count": 3,
   "metadata": {},
   "outputs": [
    {
     "name": "stdout",
     "output_type": "stream",
     "text": [
      "enter first num :5\n",
      "enter second num :5\n",
      "addition of two nums is : 10\n",
      "subtraction of two nums is : 0\n",
      "division of two nums is : 1.0\n",
      "multiplication of two nums is : 25\n",
      "modulus of two nums is : 0\n"
     ]
    }
   ],
   "source": [
    "#simple calculator\n",
    "a = int(input(\"enter first num :\"))\n",
    "\n",
    "b = int(input(\"enter second num :\"))\n",
    "\n",
    "print(\"addition of two nums is :\", a + b)\n",
    "\n",
    "print(\"subtraction of two nums is :\", a - b)\n",
    "\n",
    "print(\"division of two nums is :\", a / b)\n",
    "\n",
    "print(\"multiplication of two nums is :\", a * b)\n",
    "\n",
    "print(\"modulus of two nums is :\", a % b)"
   ]
  },
  {
   "cell_type": "code",
   "execution_count": 4,
   "metadata": {},
   "outputs": [
    {
     "name": "stdout",
     "output_type": "stream",
     "text": [
      "enter first num :5\n",
      "enter second num :5\n",
      "addition of two nums is :10\n",
      "subtraction of two nums is: 0\n",
      "division of two nums is : 1\n",
      "multiplication of two nums is : 25\n",
      "modulus of two nums is : 0\n"
     ]
    }
   ],
   "source": [
    "#calculator with format method.\n",
    "a = int(input(\"enter first num :\"))\n",
    "\n",
    "b = int(input(\"enter second num :\"))\n",
    "\n",
    "sum = a + b\n",
    "\n",
    "print(\"addition of two nums is :{}\".format(sum))\n",
    "\n",
    "sub = a - b\n",
    "\n",
    "print(\"subtraction of two nums is: {}\".format(sub))\n",
    "\n",
    "division = int(a/b)\n",
    "\n",
    "print(\"division of two nums is : {}\".format(division))\n",
    "\n",
    "mul = a * b\n",
    "\n",
    "print(\"multiplication of two nums is : {}\".format(mul))\n",
    "\n",
    "modulus = a % b\n",
    "\n",
    "print(\"modulus of two nums is : {}\".format(modulus))"
   ]
  },
  {
   "cell_type": "code",
   "execution_count": 42,
   "metadata": {},
   "outputs": [
    {
     "name": "stdout",
     "output_type": "stream",
     "text": [
      "enter first num :5\n",
      "enter second num :5\n",
      "addition of two nums is : 10, subtraction of two nums is : 0, division of two nums is : 1,\n",
      " multiplication of two nums is : 25, modulus of two nums is : 0\n"
     ]
    }
   ],
   "source": [
    "#calculator with format method by passing indexs.\n",
    "a = int(input(\"enter first num :\"))\n",
    "\n",
    "b = int(input(\"enter second num :\"))\n",
    "\n",
    "add = int(a+b)\n",
    "\n",
    "sub = int(a-b)\n",
    "\n",
    "div = int(a/b)\n",
    "\n",
    "mul = int(a*b)\n",
    "\n",
    "mod = int(a%b)\n",
    "\n",
    "calculator=\"addition of two nums is : {0}, subtraction of two nums is : {1}, division of two nums is : {2},\\n multiplication of two nums is : {3}, modulus of two nums is : {4}\"\n",
    "print(calculator.format(add,sub,div,mul,mod))"
   ]
  },
  {
   "cell_type": "code",
   "execution_count": 14,
   "metadata": {},
   "outputs": [
    {
     "name": "stdout",
     "output_type": "stream",
     "text": [
      "enter first num :5\n",
      "enter second num :5\n",
      "enter a case :%\n",
      "modulus od nums is = 0\n"
     ]
    }
   ],
   "source": [
    "#calculator with if else.\n",
    "a = int(input(\"enter first num :\"))\n",
    "\n",
    "b = int(input(\"enter second num :\"))\n",
    "\n",
    "oop = str(input(\"enter a case :\"))\n",
    "\n",
    "if oop== \"+\":\n",
    "   \n",
    "    print(\"addition is = \",a+b)\n",
    "\n",
    "elif oop== \"-\":\n",
    "    \n",
    "    print(\"subtraction of numbs is =\",a-b)\n",
    "\n",
    "elif oop== \"*\":\n",
    "    \n",
    "    print(\"multiplication of nums is =\",a*b)\n",
    "\n",
    "elif oop== \"/\":\n",
    "    \n",
    "    print(\"division of nums is =\",a/b)\n",
    "\n",
    "else:\n",
    "    \n",
    "    print(\"modulus od nums is =\",a%b)\n",
    "    "
   ]
  },
  {
   "cell_type": "code",
   "execution_count": 15,
   "metadata": {},
   "outputs": [
    {
     "name": "stdout",
     "output_type": "stream",
     "text": [
      "enter first num :5\n",
      "enter second num :5\n",
      "addition of nums is = 10\n",
      "subtraction of nums is = 0\n",
      "division of nums is = 1.0\n",
      "multiplication of nums is = 25\n",
      "modulus of nums is = 0\n"
     ]
    }
   ],
   "source": [
    "#calculator with functions.\n",
    "a = int(input(\"enter first num :\"))\n",
    "\n",
    "b = int(input(\"enter second num :\"))\n",
    "\n",
    "def add():\n",
    "    \n",
    "    add = a + b \n",
    "    \n",
    "    return add\n",
    "\n",
    "add()\n",
    "\n",
    "print(\"addition of nums is =\",add())\n",
    "\n",
    "def sub():\n",
    "    sub = a - b \n",
    "    \n",
    "    return sub\n",
    "\n",
    "sub()\n",
    "\n",
    "print(\"subtraction of nums is =\",sub())\n",
    "\n",
    "def div():\n",
    "    \n",
    "    div = a / b \n",
    "    \n",
    "    return div\n",
    "\n",
    "div()\n",
    "\n",
    "print(\"division of nums is =\",div())\n",
    "\n",
    "def mul():\n",
    "    \n",
    "    mul = a * b \n",
    "    \n",
    "    return mul\n",
    "\n",
    "mul()\n",
    "\n",
    "print(\"multiplication of nums is =\",mul())\n",
    "\n",
    "def modulus():\n",
    "    mod = a % b \n",
    "    \n",
    "    return mod\n",
    "\n",
    "modulus()\n",
    "\n",
    "print(\"modulus of nums is =\",modulus())\n"
   ]
  },
  {
   "cell_type": "code",
   "execution_count": 40,
   "metadata": {},
   "outputs": [
    {
     "name": "stdout",
     "output_type": "stream",
     "text": [
      "twinkle,twinkle,little star,\n",
      "\thow i wonder what you are!\n",
      "\t\tup above the world so high\n",
      "\t\tlike a diamond in th sky.\n",
      "twinkle,twinkle,little star,\n",
      "\thow i wonder what you are\n"
     ]
    }
   ],
   "source": [
    "#python program to print following string in a specific format.\n",
    "print(\"twinkle,twinkle,little star,\")\n",
    "\n",
    "print(\"\\thow i wonder what you are!\")\n",
    "\n",
    "print(\"\\t\\tup above the world so high\"),\n",
    "\n",
    "print(\"\\t\\tlike a diamond in th sky.\")\n",
    "\n",
    "print(\"twinkle,twinkle,little star,\")\n",
    "\n",
    "print(\"\\thow i wonder what you are\")"
   ]
  },
  {
   "cell_type": "code",
   "execution_count": 16,
   "metadata": {},
   "outputs": [
    {
     "name": "stdout",
     "output_type": "stream",
     "text": [
      "enter numbers :56,3,355\n",
      "['56', '3', '355']\n",
      "('56', '3', '355')\n"
     ]
    }
   ],
   "source": [
    "#sequence of numbers with comma-separated\n",
    "numbers = str(input(\"enter numbers :\"))   \n",
    "\n",
    "nlist = list(numbers.split(\",\"))\n",
    "\n",
    "print(nlist)\n",
    "ntuple = tuple(numbers.split(\",\"))\n",
    "\n",
    "print(ntuple)        "
   ]
  },
  {
   "cell_type": "code",
   "execution_count": 45,
   "metadata": {},
   "outputs": [
    {
     "data": {
      "text/plain": [
       "'192.168.0.105'"
      ]
     },
     "execution_count": 45,
     "metadata": {},
     "output_type": "execute_result"
    }
   ],
   "source": [
    "#host ip address\n",
    "import socket\n",
    "\n",
    "socket.gethostbyname(socket.gethostname())"
   ]
  },
  {
   "cell_type": "code",
   "execution_count": 18,
   "metadata": {},
   "outputs": [
    {
     "name": "stdout",
     "output_type": "stream",
     "text": [
      "hostname : butt\n",
      "ip : 192.168.0.106\n"
     ]
    }
   ],
   "source": [
    "#host name and ip\n",
    "import socket\n",
    "\n",
    "def get_host_name_ip():\n",
    "    try:\n",
    "        host_name=socket.gethostname()\n",
    "        \n",
    "        host_ip=socket.gethostbyname(host_name)\n",
    "        \n",
    "        print(\"hostname :\",host_name)\n",
    "        \n",
    "        print(\"ip :\",host_ip)\n",
    "    \n",
    "    except:\n",
    "        \n",
    "        print(\"unable to get hostname and ip\")\n",
    "\n",
    "get_host_name_ip()"
   ]
  },
  {
   "cell_type": "code",
   "execution_count": 19,
   "metadata": {},
   "outputs": [
    {
     "name": "stdout",
     "output_type": "stream",
     "text": [
      "3.7.3 (default, Apr 24 2019, 15:29:51) [MSC v.1915 64 bit (AMD64)]\n"
     ]
    },
    {
     "data": {
      "text/plain": [
       "sys.version_info(major=3, minor=7, micro=3, releaselevel='final', serial=0)"
      ]
     },
     "execution_count": 19,
     "metadata": {},
     "output_type": "execute_result"
    }
   ],
   "source": [
    "# get python version\n",
    "import sys\n",
    "\n",
    "print(sys.version)\n",
    "\n",
    "sys.version_info"
   ]
  },
  {
   "cell_type": "code",
   "execution_count": 20,
   "metadata": {},
   "outputs": [
    {
     "name": "stdout",
     "output_type": "stream",
     "text": [
      "2019-09-19 12:00:36.513702\n"
     ]
    }
   ],
   "source": [
    "#print date and time\n",
    "import datetime\n",
    "\n",
    "print(datetime.datetime.now())"
   ]
  },
  {
   "cell_type": "code",
   "execution_count": 21,
   "metadata": {},
   "outputs": [
    {
     "name": "stdout",
     "output_type": "stream",
     "text": [
      "{}\n",
      "[]\n",
      "0\n"
     ]
    }
   ],
   "source": [
    "#empties the list and variable without destroying them.\n",
    "ndict = {\n",
    "    \n",
    "    \"a\":200\n",
    "    \n",
    "        }\n",
    "\n",
    "print(type(ndict)()) #use this specific method to clear\n",
    "\n",
    "nlist = [\"200\",\"abc\",\"345\",\"osama\",\"osama123\"]\n",
    "\n",
    "nlist.clear() # second method to clear a list\n",
    "\n",
    "print(nlist)\n",
    "\n",
    "n = 20\n",
    "\n",
    "print(type(n)()) # return 0 without dstroying variable."
   ]
  },
  {
   "cell_type": "code",
   "execution_count": 22,
   "metadata": {},
   "outputs": [
    {
     "name": "stdout",
     "output_type": "stream",
     "text": [
      "386\n",
      "462\n",
      "418\n",
      "344\n",
      "236\n",
      "566\n",
      "978\n",
      "328\n",
      "162\n",
      "758\n",
      "918\n",
      "237\n"
     ]
    }
   ],
   "source": [
    "#Write a Python program to print out all even numbers from a given numbers list in the same order and stop the printing\n",
    "#if any numbers that come after 237 in the sequence.\n",
    "\n",
    "list = [386,462,47,418,907,344,236,375,823,566,597,978,328,615,953,345,399,162,758,219,918,237,412,566,826,248,866,950,626,\n",
    "        \n",
    "        949,687,217,815,67,104,58,512,24,892,894,767,553,81,379,843,831,445,742,717,958,743,527]\n",
    "\n",
    "for x in list:\n",
    "   \n",
    "    if (x % 2 ==0):\n",
    "        \n",
    "        print(x)\n",
    "    \n",
    "    if (x==237):\n",
    "        \n",
    "        print(x)\n",
    "        \n",
    "        break;"
   ]
  },
  {
   "cell_type": "code",
   "execution_count": 23,
   "metadata": {},
   "outputs": [
    {
     "name": "stdout",
     "output_type": "stream",
     "text": [
      "\n",
      "List of directories in sys module:\n",
      "['C:\\\\Users\\\\NoraizButt', 'E:\\\\Anaconda3\\\\python37.zip', 'E:\\\\Anaconda3\\\\DLLs', 'E:\\\\Anaconda3\\\\lib', 'E:\\\\Anaconda3', '', 'E:\\\\Anaconda3\\\\lib\\\\site-packages', 'E:\\\\Anaconda3\\\\lib\\\\site-packages\\\\win32', 'E:\\\\Anaconda3\\\\lib\\\\site-packages\\\\win32\\\\lib', 'E:\\\\Anaconda3\\\\lib\\\\site-packages\\\\Pythonwin', 'E:\\\\Anaconda3\\\\lib\\\\site-packages\\\\IPython\\\\extensions', 'C:\\\\Users\\\\NoraizButt\\\\.ipython']\n",
      "\n",
      "List of directories in os module:\n",
      "<module 'ntpath' from 'E:\\\\Anaconda3\\\\lib\\\\ntpath.py'>\n"
     ]
    }
   ],
   "source": [
    "#write a python program to find location of python module sources.\n",
    "import sys\n",
    "\n",
    "print(\"\\nList of directories in sys module:\")\n",
    "\n",
    "print(sys.path)\n",
    "\n",
    "print(\"\\nList of directories in os module:\")\n",
    "\n",
    "import os\n",
    "\n",
    "print(os.path)"
   ]
  },
  {
   "cell_type": "code",
   "execution_count": 33,
   "metadata": {},
   "outputs": [
    {
     "name": "stdout",
     "output_type": "stream",
     "text": [
      "enter your first name:noraiz\n",
      "enter your last name:butt\n",
      "butt noraiz\n"
     ]
    },
    {
     "data": {
      "text/plain": [
       "'firstname = input(\"enter your first name:\")\\n\\nfname_list = list()\\n\\nfname_list.append(firstname)\\n\\nlastname = input(\"enter your last name:\")\\n\\nlname_list = list()\\n\\nlname_list.append(lastname)\\n\\nfullname_list = list(fname_list +\" \"+ lname_list)\\n\\nname_list=list(fullname_list)\\n\\nname_list.reverse()\\n\\nprint(name_list)'"
      ]
     },
     "execution_count": 33,
     "metadata": {},
     "output_type": "execute_result"
    }
   ],
   "source": [
    "#print name in reverse order with a space between them.\n",
    "\n",
    "first_name = (input(\"enter your first name:\"))\n",
    "\n",
    "last_name = (input(\"enter your last name:\"))\n",
    "\n",
    "full_name = (last_name+\" \"+first_name)\n",
    "\n",
    "print(full_name)\n",
    "\n",
    "'''firstname = input(\"enter your first name:\")\n",
    "\n",
    "fname_list = list()\n",
    "\n",
    "fname_list.append(firstname)\n",
    "\n",
    "lastname = input(\"enter your last name:\")\n",
    "\n",
    "lname_list = list()\n",
    "\n",
    "lname_list.append(lastname)\n",
    "\n",
    "fullname_list = list(fname_list +\" \"+ lname_list)\n",
    "\n",
    "name_list=list(fullname_list)\n",
    "\n",
    "name_list.reverse()\n",
    "\n",
    "print(name_list)'''\n"
   ]
  },
  {
   "cell_type": "code",
   "execution_count": 38,
   "metadata": {},
   "outputs": [
    {
     "name": "stdout",
     "output_type": "stream",
     "text": [
      "1\n",
      "2\n",
      "3\n",
      "name abc\n"
     ]
    }
   ],
   "source": [
    "def xyz(*args , **kwargs):\n",
    "    \n",
    "    for x in args:\n",
    "        \n",
    "        print(x)\n",
    "    \n",
    "    for keys in kwargs:\n",
    "       \n",
    "        print(keys , kwargs[keys])\n",
    "\n",
    "xyz(1,2,3,name = \"abc\")"
   ]
  },
  {
   "cell_type": "code",
   "execution_count": 39,
   "metadata": {},
   "outputs": [
    {
     "name": "stdout",
     "output_type": "stream",
     "text": [
      "{'a': 2, 'b': 2, 'c': 1}\n",
      "['a', 'b', 'f', 'a', 'c', 'h', 'b']\n"
     ]
    }
   ],
   "source": [
    "def myfun(x,y,z):\n",
    "    \n",
    "    ndict = dict(\n",
    "        a = x,\n",
    "        b = y,\n",
    "        c = z\n",
    "        )\n",
    "    \n",
    "    print(ndict)\n",
    "    \n",
    "nlist = [\"a\",\"b\",\"f\",\"a\",\"c\",\"h\",\"b\"]\n",
    "\n",
    "x = nlist.count(\"a\")\n",
    "\n",
    "y = nlist.count(\"b\")\n",
    "\n",
    "z = nlist.count(\"c\")\n",
    "\n",
    "myfun(x,y,z)\n",
    "\n",
    "print(nlist)"
   ]
  }
 ],
 "metadata": {
  "kernelspec": {
   "display_name": "Python 3",
   "language": "python",
   "name": "python3"
  },
  "language_info": {
   "codemirror_mode": {
    "name": "ipython",
    "version": 3
   },
   "file_extension": ".py",
   "mimetype": "text/x-python",
   "name": "python",
   "nbconvert_exporter": "python",
   "pygments_lexer": "ipython3",
   "version": "3.7.3"
  }
 },
 "nbformat": 4,
 "nbformat_minor": 2
}
